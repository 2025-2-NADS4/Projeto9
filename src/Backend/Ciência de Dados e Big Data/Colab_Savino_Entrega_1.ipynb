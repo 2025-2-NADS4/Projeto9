{
  "nbformat": 4,
  "nbformat_minor": 0,
  "metadata": {
    "colab": {
      "provenance": []
    },
    "kernelspec": {
      "name": "python3",
      "display_name": "Python 3"
    },
    "language_info": {
      "name": "python"
    }
  },
  "cells": [
    {
      "cell_type": "markdown",
      "source": [
        "Clientes recorrentes."
      ],
      "metadata": {
        "id": "icmwt0wbJ4Ml"
      }
    },
    {
      "cell_type": "code",
      "execution_count": null,
      "metadata": {
        "id": "A5B1SttAJ2dE"
      },
      "outputs": [],
      "source": [
        "import pandas as pd\n",
        "\n",
        "df_orders = pd.read_csv('Order_semicolon.csv', sep=';')\n",
        "\n",
        "customer_orders = df_orders['customer'].value_counts()\n",
        "\n",
        "new_customers = customer_orders[customer_orders == 1].index\n",
        "returning_customers = customer_orders[customer_orders > 1].index\n",
        "\n",
        "total_customers = len(customer_orders)\n",
        "num_new_customers = len(new_customers)\n",
        "percentage_new = (num_new_customers / total_customers) * 100\n",
        "\n",
        "print(\"### Análise de Novos Clientes ###\")\n",
        "print(f\"Total de clientes: {total_customers}\")\n",
        "print(f\"Clientes novos com 1 pedido: {num_new_customers}\")\n",
        "print(f\"Clientes recorrentes com 1 ou mais pedidos: {len(returning_customers)}\")\n",
        "print(f\"Porcentagem de clientes novos: {percentage_new:.2f}%\\n\")\n",
        "\n",
        "multi_order_customers = customer_orders[customer_orders >= 3].index\n",
        "\n",
        "if not multi_order_customers.empty:\n",
        "    print(\"### Análise de Clientes com 3+ Pedidos ###\")\n",
        "\n",
        "    top_customers_info = []\n",
        "\n",
        "    for customer_id in multi_order_customers:\n",
        "\n",
        "      customer_df = df_orders[df_orders['customer'] == customer_id]\n",
        "      most_common_channel = customer_df['salesChannel'].mode()[0]\n",
        "\n",
        "      top_customers_info.append({\n",
        "            'Cliente': customer_id,\n",
        "            'Total de Pedidos': len(customer_df),\n",
        "            'Canal de Venda Mais Usado': most_common_channel\n",
        "        })\n",
        "\n",
        "      top_customers_df = pd.DataFrame(top_customers_info).sort_values(\n",
        "        by='Total de Pedidos', ascending=False\n",
        "    ).reset_index(drop=True)\n",
        "\n",
        "    print(top_customers_df)\n",
        "\n",
        "else:\n",
        "    print(\"Não foram encontrados clientes com 3 ou mais pedidos.\")"
      ]
    },
    {
      "cell_type": "markdown",
      "source": [
        "10 Campanhas com mais pedidos."
      ],
      "metadata": {
        "id": "P3_NklVIMyN4"
      }
    },
    {
      "cell_type": "code",
      "source": [
        "import pandas as pd\n",
        "\n",
        "df_pedidos = pd.read_csv('Order_semicolon.csv', sep=';')\n",
        "df_campanhas = pd.read_csv('CampaignQueue_semicolon.csv', sep=';')\n",
        "\n",
        "pedidos_por_cliente = df_pedidos['customer'].value_counts().reset_index()\n",
        "pedidos_por_cliente.columns = ['customer_id', 'total_pedidos']\n",
        "\n",
        "df_analise = pd.merge(df_campanhas, pedidos_por_cliente, left_on='customerId', right_on='customer_id', how='left')\n",
        "\n",
        "df_analise['total_pedidos'] = df_analise['total_pedidos'].fillna(0).astype(int)\n",
        "\n",
        "total_pedidos_por_campanha = df_analise.groupby('campaignId')['total_pedidos'].sum().sort_values(ascending=False).reset_index()\n",
        "\n",
        "print(\"Quantidade Total de Pedidos por Campanha\")\n",
        "print(\"-\" * 60)\n",
        "print(total_pedidos_por_campanha.head(10).to_string(index=False))"
      ],
      "metadata": {
        "colab": {
          "base_uri": "https://localhost:8080/"
        },
        "id": "fXViof4_L4L2",
        "outputId": "c8765f16-d1ab-4666-ebe0-2ae14fa93529"
      },
      "execution_count": 25,
      "outputs": [
        {
          "output_type": "stream",
          "name": "stdout",
          "text": [
            "Quantidade Total de Pedidos por Campanha\n",
            "------------------------------------------------------------\n",
            " campaignId  total_pedidos\n",
            "        573             27\n",
            "         98             20\n",
            "        692             20\n",
            "        123             19\n",
            "       1708             19\n",
            "       1117             19\n",
            "       1945             18\n",
            "       1124             18\n",
            "       1841             18\n",
            "        296             18\n"
          ]
        }
      ]
    },
    {
      "cell_type": "markdown",
      "source": [
        "10 Campanhas maior média de pedidos."
      ],
      "metadata": {
        "id": "43UUeOhIN3Lr"
      }
    },
    {
      "cell_type": "code",
      "source": [
        "import pandas as pd\n",
        "import matplotlib.pyplot as plt\n",
        "\n",
        "df_pedidos = pd.read_csv('Order_semicolon.csv', sep=';')\n",
        "df_campanhas = pd.read_csv('Campaign_semicolon.csv', sep=';')\n",
        "df_fila_campanhas = pd.read_csv('CampaignQueue_semicolon.csv', sep=';')\n",
        "\n",
        "pedidos_por_cliente = df_pedidos['customer'].value_counts().reset_index()\n",
        "pedidos_por_cliente.columns = ['customerId', 'total_pedidos']\n",
        "\n",
        "df_analise = pd.merge(df_fila_campanhas, pedidos_por_cliente, on='customerId', how='left')\n",
        "\n",
        "df_analise['total_pedidos'] = df_analise['total_pedidos'].fillna(0)\n",
        "\n",
        "media_por_campanha = df_analise.groupby('campaignId')['total_pedidos'].mean().reset_index()\n",
        "media_por_campanha.columns = ['campaignId', 'media_pedidos']\n",
        "\n",
        "df_nomes_campanhas = df_campanhas[['id', 'name']]\n",
        "df_resultado = pd.merge(media_por_campanha, df_nomes_campanhas, left_on='campaignId', right_on='id', how='left')\n",
        "\n",
        "df_resultado = df_resultado.sort_values(by='media_pedidos', ascending=False).head(10)\n",
        "\n",
        "plt.figure(figsize=(12, 8))\n",
        "plt.barh(df_resultado['name'], df_resultado['media_pedidos'], color='skyblue')\n",
        "plt.title('Top 10 Campanhas com Maior Média de Pedidos por Cliente', fontsize=16)\n",
        "plt.xlabel('Média de Pedidos por Cliente', fontsize=12)\n",
        "plt.ylabel('Nome da Campanha', fontsize=12)\n",
        "plt.grid(axis='x', linestyle='--', alpha=0.6)\n",
        "plt.tight_layout()\n",
        "plt.show()"
      ],
      "metadata": {
        "id": "BnkonP6FNOWJ"
      },
      "execution_count": null,
      "outputs": []
    }
  ]
}